{
  "nbformat": 4,
  "nbformat_minor": 0,
  "metadata": {
    "colab": {
      "name": "Py2.ipynb",
      "provenance": [],
      "collapsed_sections": [],
      "authorship_tag": "ABX9TyN20glM+fwjhhXbQNecOLxL",
      "include_colab_link": true
    },
    "kernelspec": {
      "name": "python3",
      "display_name": "Python 3"
    },
    "language_info": {
      "name": "python"
    }
  },
  "cells": [
    {
      "cell_type": "markdown",
      "metadata": {
        "id": "view-in-github",
        "colab_type": "text"
      },
      "source": [
        "<a href=\"https://colab.research.google.com/github/Ivacn/globalai-project/blob/main/Py2.ipynb\" target=\"_parent\"><img src=\"https://colab.research.google.com/assets/colab-badge.svg\" alt=\"Open In Colab\"/></a>"
      ]
    },
    {
      "cell_type": "markdown",
      "source": [
        "# ***Importing the Libraries***"
      ],
      "metadata": {
        "id": "Qchw-32wYwaB"
      }
    },
    {
      "cell_type": "code",
      "execution_count": 23,
      "metadata": {
        "id": "fWEQUQsvG2sw"
      },
      "outputs": [],
      "source": [
        "import pandas as pd\n",
        "import numpy as np\n",
        "import matplotlib.pyplot as plt\n",
        "import seaborn as sns\n",
        "from IPython import get_ipython\n",
        "from scipy import stats\n"
      ]
    },
    {
      "cell_type": "markdown",
      "source": [
        "# ***Loading for the Data***"
      ],
      "metadata": {
        "id": "tWlL6Hg0Y9sG"
      }
    },
    {
      "cell_type": "code",
      "source": [
        "df=pd.read_csv('/content/NetflixOriginals.csv',encoding = 'ISO-8859-1')"
      ],
      "metadata": {
        "id": "woTfCx_H5F_W"
      },
      "execution_count": 4,
      "outputs": []
    },
    {
      "cell_type": "markdown",
      "source": [
        "# ***13-Hangi yılın toplam \"runtime\" süresi en fazladır?***\n",
        "\n",
        "---\n",
        "# ***Which year has the most total \"runtime\" time?***\n"
      ],
      "metadata": {
        "id": "ZVkZTaXCcrfh"
      }
    },
    {
      "cell_type": "markdown",
      "source": [
        "Bunun için öncelikle yıl değişkenimizi sayısal bir formata çevirmemiz gerekiyor. Ve bundan sonra, yöntemin içindeki yıl değişkenini almamız gerekiyor. Ve son olarak, çalışma zamanı değişkenlerimizi gruplamamız gerekiyor.\n",
        "\n",
        "---\n",
        "For this, firstly we need to change our year variable to a numerical format. And after that, we need to take the year variable inside of the method. And, lastly, we need to group our runtime variables.\n"
      ],
      "metadata": {
        "id": "yx79KCCNahuV"
      }
    },
    {
      "cell_type": "code",
      "source": [
        "df2=df.groupby([pd.to_datetime(df['Premiere']).dt.year]).sum().sort_values([\"Runtime\"],ascending=False)\n",
        "df2[\"Runtime\"]"
      ],
      "metadata": {
        "id": "U__X-Br6H-Ei",
        "outputId": "e6230379-2d75-4158-ec0b-6ee32dd421f2",
        "colab": {
          "base_uri": "https://localhost:8080/"
        }
      },
      "execution_count": 5,
      "outputs": [
        {
          "output_type": "execute_result",
          "data": {
            "text/plain": [
              "Premiere\n",
              "2020    17384\n",
              "2019    10856\n",
              "2018     9405\n",
              "2021     7214\n",
              "2017     6129\n",
              "2016     2766\n",
              "2015      814\n",
              "2014       81\n",
              "Name: Runtime, dtype: int64"
            ]
          },
          "metadata": {},
          "execution_count": 5
        }
      ]
    },
    {
      "cell_type": "markdown",
      "source": [
        "# ***14-Her bir dilin en fazla kullanıldığı \"Genre\" nedir?7***\n",
        "\n",
        "---\n",
        "\n",
        "\n",
        "# ***What is the \"Genre\" in which each language is used the most?***"
      ],
      "metadata": {
        "id": "n4cahfOLcUuX"
      }
    },
    {
      "cell_type": "markdown",
      "source": [
        "Her bir dilin kullandığı genre'yi öğrenmek için \"groupby\" metodu ile çalışmalıyız.\n",
        "\n",
        "---\n",
        "\n",
        "In order to learn the genre used by each language, we should work with the \"groupby\" method."
      ],
      "metadata": {
        "id": "HIHZNF-DZcCt"
      }
    },
    {
      "cell_type": "code",
      "source": [
        "df.groupby([\"Language\"])[\"Genre\"].value_counts(sort=True).groupby(level=0).head(1)"
      ],
      "metadata": {
        "colab": {
          "base_uri": "https://localhost:8080/"
        },
        "id": "4q-r_NktJ6Ut",
        "outputId": "740b2059-047f-4df1-cc93-ae1e1a358e05"
      },
      "execution_count": 6,
      "outputs": [
        {
          "output_type": "execute_result",
          "data": {
            "text/plain": [
              "Language                    Genre                \n",
              "Bengali                     Documentary                1\n",
              "Dutch                       Crime drama                1\n",
              "English                     Documentary              120\n",
              "English/Akan                War drama                  1\n",
              "English/Arabic              Documentary                1\n",
              "English/Hindi               Documentary                2\n",
              "English/Japanese            Crime drama                1\n",
              "English/Korean              Action-adventure           1\n",
              "English/Mandarin            Documentary                2\n",
              "English/Russian             Documentary                1\n",
              "English/Spanish             Documentary                5\n",
              "English/Swedish             Documentary                1\n",
              "English/Taiwanese/Mandarin  Drama                      1\n",
              "English/Ukranian/Russian    Documentary                1\n",
              "Filipino                    Drama                      1\n",
              "French                      Documentary                6\n",
              "Georgian                    Documentary                1\n",
              "German                      Drama                      1\n",
              "Hindi                       Drama                     13\n",
              "Indonesian                  Drama                      3\n",
              "Italian                     Drama                      4\n",
              "Japanese                    Anime/Science fiction      2\n",
              "Khmer/English/French        Drama                      1\n",
              "Korean                      Drama                      2\n",
              "Malay                       Action comedy              1\n",
              "Marathi                     Drama                      2\n",
              "Norwegian                   Horror                     1\n",
              "Polish                      Horror                     1\n",
              "Portuguese                  Comedy                     6\n",
              "Spanish                     Documentary                8\n",
              "Spanish/Basque              Black comedy               1\n",
              "Spanish/Catalan             Documentary                1\n",
              "Spanish/English             Documentary                1\n",
              "Swedish                     Thriller                   1\n",
              "Tamil                       Drama                      1\n",
              "Thai                        Documentary                1\n",
              "Thia/English                Documentary                1\n",
              "Turkish                     Comedy                     2\n",
              "Name: Genre, dtype: int64"
            ]
          },
          "metadata": {},
          "execution_count": 6
        }
      ]
    },
    {
      "cell_type": "markdown",
      "source": [
        "# ***Veri setinde outlier veri var mıdır? Açıklayınız.***\n",
        "\n",
        "---\n",
        "# ***Is there outlier data in the dataset? Please explain.***\n"
      ],
      "metadata": {
        "id": "NFJLEtF9c5ac"
      }
    },
    {
      "cell_type": "markdown",
      "source": [
        "Veri setinin doğru bir şekilde yüklendiğini anlamak için ilk ve son 5 satırını head() ve tail() fonksiyonları ile görüntülemeliyiz.\n",
        "\n",
        "---\n",
        "\n",
        "In order to understand that the data set is loaded correctly, we need to display the first and last 5 lines with the head() and tail() functions."
      ],
      "metadata": {
        "id": "WFFeBmdYZSkK"
      }
    },
    {
      "cell_type": "code",
      "source": [
        "df.head()\n",
        "df.tail()"
      ],
      "metadata": {
        "colab": {
          "base_uri": "https://localhost:8080/",
          "height": 206
        },
        "id": "Uq5bIWNkH2Vy",
        "outputId": "f0070b70-86e5-44ff-85b3-3519c7613431"
      },
      "execution_count": 24,
      "outputs": [
        {
          "output_type": "execute_result",
          "data": {
            "text/plain": [
              "                                           Title         Genre  \\\n",
              "579        Taylor Swift: Reputation Stadium Tour  Concert Film   \n",
              "580  Winter on Fire: Ukraine's Fight for Freedom   Documentary   \n",
              "581                      Springsteen on Broadway  One-man show   \n",
              "582    Emicida: AmarElo - It's All For Yesterday   Documentary   \n",
              "583     David Attenborough: A Life on Our Planet   Documentary   \n",
              "\n",
              "              Premiere  Runtime  IMDB Score                  Language  \n",
              "579  December 31, 2018      125         8.4                   English  \n",
              "580    October 9, 2015       91         8.4  English/Ukranian/Russian  \n",
              "581  December 16, 2018      153         8.5                   English  \n",
              "582   December 8, 2020       89         8.6                Portuguese  \n",
              "583    October 4, 2020       83         9.0                   English  "
            ],
            "text/html": [
              "\n",
              "  <div id=\"df-4f362559-3631-4692-8411-fa4f0e01ef44\">\n",
              "    <div class=\"colab-df-container\">\n",
              "      <div>\n",
              "<style scoped>\n",
              "    .dataframe tbody tr th:only-of-type {\n",
              "        vertical-align: middle;\n",
              "    }\n",
              "\n",
              "    .dataframe tbody tr th {\n",
              "        vertical-align: top;\n",
              "    }\n",
              "\n",
              "    .dataframe thead th {\n",
              "        text-align: right;\n",
              "    }\n",
              "</style>\n",
              "<table border=\"1\" class=\"dataframe\">\n",
              "  <thead>\n",
              "    <tr style=\"text-align: right;\">\n",
              "      <th></th>\n",
              "      <th>Title</th>\n",
              "      <th>Genre</th>\n",
              "      <th>Premiere</th>\n",
              "      <th>Runtime</th>\n",
              "      <th>IMDB Score</th>\n",
              "      <th>Language</th>\n",
              "    </tr>\n",
              "  </thead>\n",
              "  <tbody>\n",
              "    <tr>\n",
              "      <th>579</th>\n",
              "      <td>Taylor Swift: Reputation Stadium Tour</td>\n",
              "      <td>Concert Film</td>\n",
              "      <td>December 31, 2018</td>\n",
              "      <td>125</td>\n",
              "      <td>8.4</td>\n",
              "      <td>English</td>\n",
              "    </tr>\n",
              "    <tr>\n",
              "      <th>580</th>\n",
              "      <td>Winter on Fire: Ukraine's Fight for Freedom</td>\n",
              "      <td>Documentary</td>\n",
              "      <td>October 9, 2015</td>\n",
              "      <td>91</td>\n",
              "      <td>8.4</td>\n",
              "      <td>English/Ukranian/Russian</td>\n",
              "    </tr>\n",
              "    <tr>\n",
              "      <th>581</th>\n",
              "      <td>Springsteen on Broadway</td>\n",
              "      <td>One-man show</td>\n",
              "      <td>December 16, 2018</td>\n",
              "      <td>153</td>\n",
              "      <td>8.5</td>\n",
              "      <td>English</td>\n",
              "    </tr>\n",
              "    <tr>\n",
              "      <th>582</th>\n",
              "      <td>Emicida: AmarElo - It's All For Yesterday</td>\n",
              "      <td>Documentary</td>\n",
              "      <td>December 8, 2020</td>\n",
              "      <td>89</td>\n",
              "      <td>8.6</td>\n",
              "      <td>Portuguese</td>\n",
              "    </tr>\n",
              "    <tr>\n",
              "      <th>583</th>\n",
              "      <td>David Attenborough: A Life on Our Planet</td>\n",
              "      <td>Documentary</td>\n",
              "      <td>October 4, 2020</td>\n",
              "      <td>83</td>\n",
              "      <td>9.0</td>\n",
              "      <td>English</td>\n",
              "    </tr>\n",
              "  </tbody>\n",
              "</table>\n",
              "</div>\n",
              "      <button class=\"colab-df-convert\" onclick=\"convertToInteractive('df-4f362559-3631-4692-8411-fa4f0e01ef44')\"\n",
              "              title=\"Convert this dataframe to an interactive table.\"\n",
              "              style=\"display:none;\">\n",
              "        \n",
              "  <svg xmlns=\"http://www.w3.org/2000/svg\" height=\"24px\"viewBox=\"0 0 24 24\"\n",
              "       width=\"24px\">\n",
              "    <path d=\"M0 0h24v24H0V0z\" fill=\"none\"/>\n",
              "    <path d=\"M18.56 5.44l.94 2.06.94-2.06 2.06-.94-2.06-.94-.94-2.06-.94 2.06-2.06.94zm-11 1L8.5 8.5l.94-2.06 2.06-.94-2.06-.94L8.5 2.5l-.94 2.06-2.06.94zm10 10l.94 2.06.94-2.06 2.06-.94-2.06-.94-.94-2.06-.94 2.06-2.06.94z\"/><path d=\"M17.41 7.96l-1.37-1.37c-.4-.4-.92-.59-1.43-.59-.52 0-1.04.2-1.43.59L10.3 9.45l-7.72 7.72c-.78.78-.78 2.05 0 2.83L4 21.41c.39.39.9.59 1.41.59.51 0 1.02-.2 1.41-.59l7.78-7.78 2.81-2.81c.8-.78.8-2.07 0-2.86zM5.41 20L4 18.59l7.72-7.72 1.47 1.35L5.41 20z\"/>\n",
              "  </svg>\n",
              "      </button>\n",
              "      \n",
              "  <style>\n",
              "    .colab-df-container {\n",
              "      display:flex;\n",
              "      flex-wrap:wrap;\n",
              "      gap: 12px;\n",
              "    }\n",
              "\n",
              "    .colab-df-convert {\n",
              "      background-color: #E8F0FE;\n",
              "      border: none;\n",
              "      border-radius: 50%;\n",
              "      cursor: pointer;\n",
              "      display: none;\n",
              "      fill: #1967D2;\n",
              "      height: 32px;\n",
              "      padding: 0 0 0 0;\n",
              "      width: 32px;\n",
              "    }\n",
              "\n",
              "    .colab-df-convert:hover {\n",
              "      background-color: #E2EBFA;\n",
              "      box-shadow: 0px 1px 2px rgba(60, 64, 67, 0.3), 0px 1px 3px 1px rgba(60, 64, 67, 0.15);\n",
              "      fill: #174EA6;\n",
              "    }\n",
              "\n",
              "    [theme=dark] .colab-df-convert {\n",
              "      background-color: #3B4455;\n",
              "      fill: #D2E3FC;\n",
              "    }\n",
              "\n",
              "    [theme=dark] .colab-df-convert:hover {\n",
              "      background-color: #434B5C;\n",
              "      box-shadow: 0px 1px 3px 1px rgba(0, 0, 0, 0.15);\n",
              "      filter: drop-shadow(0px 1px 2px rgba(0, 0, 0, 0.3));\n",
              "      fill: #FFFFFF;\n",
              "    }\n",
              "  </style>\n",
              "\n",
              "      <script>\n",
              "        const buttonEl =\n",
              "          document.querySelector('#df-4f362559-3631-4692-8411-fa4f0e01ef44 button.colab-df-convert');\n",
              "        buttonEl.style.display =\n",
              "          google.colab.kernel.accessAllowed ? 'block' : 'none';\n",
              "\n",
              "        async function convertToInteractive(key) {\n",
              "          const element = document.querySelector('#df-4f362559-3631-4692-8411-fa4f0e01ef44');\n",
              "          const dataTable =\n",
              "            await google.colab.kernel.invokeFunction('convertToInteractive',\n",
              "                                                     [key], {});\n",
              "          if (!dataTable) return;\n",
              "\n",
              "          const docLinkHtml = 'Like what you see? Visit the ' +\n",
              "            '<a target=\"_blank\" href=https://colab.research.google.com/notebooks/data_table.ipynb>data table notebook</a>'\n",
              "            + ' to learn more about interactive tables.';\n",
              "          element.innerHTML = '';\n",
              "          dataTable['output_type'] = 'display_data';\n",
              "          await google.colab.output.renderOutput(dataTable, element);\n",
              "          const docLink = document.createElement('div');\n",
              "          docLink.innerHTML = docLinkHtml;\n",
              "          element.appendChild(docLink);\n",
              "        }\n",
              "      </script>\n",
              "    </div>\n",
              "  </div>\n",
              "  "
            ]
          },
          "metadata": {},
          "execution_count": 24
        }
      ]
    },
    {
      "cell_type": "markdown",
      "source": [
        "Değişkenlere dair daha fazla bilgi edinmek için info() fonksiyonunu kullanarız.\n",
        "\n",
        "---\n",
        "\n",
        "To find out more about the variables, we use the info() function."
      ],
      "metadata": {
        "id": "9bNSBEJ-ZEm4"
      }
    },
    {
      "cell_type": "code",
      "source": [
        "df.info()"
      ],
      "metadata": {
        "colab": {
          "base_uri": "https://localhost:8080/"
        },
        "id": "Ad8-vqj2IRF0",
        "outputId": "67266ab1-1f72-4645-8644-afc388eaae00"
      },
      "execution_count": 25,
      "outputs": [
        {
          "output_type": "stream",
          "name": "stdout",
          "text": [
            "<class 'pandas.core.frame.DataFrame'>\n",
            "RangeIndex: 584 entries, 0 to 583\n",
            "Data columns (total 6 columns):\n",
            " #   Column      Non-Null Count  Dtype  \n",
            "---  ------      --------------  -----  \n",
            " 0   Title       584 non-null    object \n",
            " 1   Genre       584 non-null    object \n",
            " 2   Premiere    584 non-null    object \n",
            " 3   Runtime     584 non-null    int64  \n",
            " 4   IMDB Score  584 non-null    float64\n",
            " 5   Language    584 non-null    object \n",
            "dtypes: float64(1), int64(1), object(4)\n",
            "memory usage: 27.5+ KB\n"
          ]
        }
      ]
    },
    {
      "cell_type": "markdown",
      "source": [
        "Kutu grafiğini çizmek için Matplotlib (kısaca plt) kütüphanesini kullanmalıyız.Bu çerçevenin 2 adet iç grafik içermesini istediğimiz ve 1 satır, 2 sütun şeklinde yan yana görüntülenmesini istediğimiz için subplots’a 1, 2 parametrelerini veriyoruz.Kutu grafiklerinin daha açıklayıcı olması için “set_title” ile de her kutu grafiğine başlık atıyoruz.\n",
        "\n",
        "---\n",
        "To plot the box graph, we should use the Matplotlib (plt for short) library.Since we want this frame to contain 2 internal graphs and we want it to be displayed side by side in the form of 1 row, 2 columns, we give subplots the parameters 1, 2.In order for the box graphs to be more descriptive, we also assign a title to each box graph with “set_title”.\n"
      ],
      "metadata": {
        "id": "jhfQbA8TY7_j"
      }
    },
    {
      "cell_type": "code",
      "source": [
        "fig, (ax1, ax2) = plt.subplots(1, 2, figsize = (20, 8))\n",
        " \n",
        "ax1.boxplot(df[\"Runtime\"])\n",
        "ax1.set_title(\"Runtime\")\n",
        " \n",
        "ax2.boxplot(df[\"IMDB Score\"])\n",
        "ax2.set_title(\"IMDB Score\")\n",
        " \n",
        "plt.show()\n"
      ],
      "metadata": {
        "colab": {
          "base_uri": "https://localhost:8080/",
          "height": 410
        },
        "id": "HwO8e_Q-IcbL",
        "outputId": "3b8bd1d1-7280-4f19-81d1-48c2423a34da"
      },
      "execution_count": 34,
      "outputs": [
        {
          "output_type": "display_data",
          "data": {
            "text/plain": [
              "<Figure size 1440x576 with 2 Axes>"
            ],
            "image/png": "[encoded data removed]"
          },
          "metadata": {
            "needs_background": "light"
          }
        }
      ]
    },
    {
      "cell_type": "markdown",
      "source": [
        "Kutu grafiğinde olduğu gibi aynı yolu izlemeliyiz. Önce çerçeve ve iç grafik yapısını belirlemek gerekir Ardından “hist” fonksiyonu ile 2 farklı değişkenimiz için histogram grafiklerini çizdirmiş olduk.\n",
        "\n",
        "---\n",
        "We need to follow the same path as in the box graph. First, it is necessary to determine the frame and internal graph structure, and then we have drawn histogram graphs for our 2 different variables with the “hist” function.\n"
      ],
      "metadata": {
        "id": "X1nqwbVPYkoA"
      }
    },
    {
      "cell_type": "code",
      "source": [
        "fig, (ax1, ax2) = plt.subplots(1, 2, figsize = (20, 8))\n",
        " \n",
        "ax1.hist(df[\"Runtime\"])\n",
        "ax1.set_title(\"Runtime\")\n",
        " \n",
        "ax2.hist(df[\"IMDB Score\"])\n",
        "ax2.set_title(\"IMDB Score\")\n",
        "\n",
        "plt.show()"
      ],
      "metadata": {
        "colab": {
          "base_uri": "https://localhost:8080/",
          "height": 410
        },
        "id": "rjmDEmUYV_fc",
        "outputId": "1e7cc2fb-03bd-4dff-e16b-d314b31afa4c"
      },
      "execution_count": 35,
      "outputs": [
        {
          "output_type": "display_data",
          "data": {
            "text/plain": [
              "<Figure size 1440x576 with 2 Axes>"
            ],
            "image/png": "[encoded data removed]"
          },
          "metadata": {
            "needs_background": "light"
          }
        }
      ]
    },
    {
      "cell_type": "markdown",
      "source": [
        "Çeyrekler açıklığını  SciPy kütüphanesinin “iqr()” fonksiyonu ile hesaplayabiliriz.Fonksiyona iqr adını verdik. df ve var adında iki parametre ile çalışmaktadır.Aykırı değerleri belirleyecek sınırlar olan alt ve üst eşik değerlerini hesaplarken 1. çeyrekten 1.5 kat az, 3. çeyrekten de 1.5 kat fazla olan değeri sınır olarak belirledik.Son olarak da işlem yapılan değişkendeki eşik değerlerin altında ve üstünde kalan değerleri filtreleme işlemi yaptık.\n",
        "\n",
        "---\n",
        "We can calculate the quadrant clearance using the “iqr()” function of the SciPy library.We have named the function iqr. it works with two parameters called df and var.1. When calculating the lower and upper threshold values, which are the limits that will determine the outliers. 1.5 times less than a quarter, 3. we have set the value as the limit, which is 1.5 times more than a quarter.Finally, we have filtered the values that remain below and above the threshold values in the variable being processed.\n"
      ],
      "metadata": {
        "id": "cj33COA5YDdG"
      }
    },
    {
      "cell_type": "code",
      "source": [
        "def iqr(df,var):\n",
        "    q1 = np.quantile(df[var], 0.25)\n",
        "    q2 = np.quantile(df[var], 0.75)\n",
        "    diff = q2 - q1\n",
        "    lower_t = q1 - (1.5 * diff)\n",
        "    upper_t = q2 + (1.5 * diff)\n",
        "    return df[(df[var] < lower_t) | (df[var] > upper_t)]\n"
      ],
      "metadata": {
        "id": "awnns2cAWSv6"
      },
      "execution_count": 36,
      "outputs": []
    },
    {
      "cell_type": "markdown",
      "source": [
        "Fonksiyonu çalıştırdığımızda, belirlediğimiz kurala göre aykırı olarak bulunan değerleri birer değişkene atadık. Ve aykırı değerlerin 75 ile 9 olduğunu tespit ettik.\n",
        "\n",
        "\n",
        "---\n",
        "\n",
        "\n",
        "When we ran the function, we assigned the values that were found to be contrary to the rule we set to a variable. And we found that the outliers are 75 to 9."
      ],
      "metadata": {
        "id": "1KU1HhTaXgBp"
      }
    },
    {
      "cell_type": "code",
      "source": [
        "runtime_out = iqr(df, \"Runtime\")\n",
        "imdb_out = iqr(df, \"IMDB Score\")\n",
        "print(len(runtime_out), len(imdb_out))\n",
        " "
      ],
      "metadata": {
        "colab": {
          "base_uri": "https://localhost:8080/"
        },
        "id": "RS3YOiKrWcMz",
        "outputId": "ea0760f9-5da9-4529-8896-ca55c50238cb"
      },
      "execution_count": 38,
      "outputs": [
        {
          "output_type": "stream",
          "name": "stdout",
          "text": [
            "75 9\n"
          ]
        }
      ]
    }
  ]
}