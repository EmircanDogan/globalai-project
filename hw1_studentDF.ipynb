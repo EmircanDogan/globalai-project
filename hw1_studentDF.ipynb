{
  "cells": [
    {
      "cell_type": "markdown",
      "metadata": {
        "id": "view-in-github",
        "colab_type": "text"
      },
      "source": [
        "<a href=\"https://colab.research.google.com/github/b21892757/globalai-project/blob/main/hw1_studentDF.ipynb\" target=\"_parent\"><img src=\"https://colab.research.google.com/assets/colab-badge.svg\" alt=\"Open In Colab\"/></a>"
      ]
    },
    {
      "cell_type": "code",
      "execution_count": 52,
      "metadata": {
        "id": "fOBDFDUAFhFq"
      },
      "outputs": [],
      "source": [
        "import pandas as pd\n",
        "import numpy as np"
      ]
    },
    {
      "cell_type": "code",
      "execution_count": 53,
      "metadata": {
        "id": "iBFZLD8_KOga"
      },
      "outputs": [],
      "source": [
        "d={}\n",
        "studentName=[]\n",
        "studentAge=[]\n",
        "studentNumber=[]\n",
        "studentLesson=[]\n",
        "studentGrade =[]\n",
        "global df \n",
        "df= pd.DataFrame(d)\n",
        "df=df.assign(StudentName = studentName,StudentAge=studentAge, StudentNumber=studentNumber,StudentLesson=studentLesson,StudentGrade=studentGrade)"
      ]
    },
    {
      "cell_type": "code",
      "execution_count": 54,
      "metadata": {
        "id": "T1jal8jrKLv6"
      },
      "outputs": [],
      "source": [
        "def ogrenciEkle(df):\n",
        "  isim = input(\"İsim giriniz : \")\n",
        "  yas = input(\"Yaş giriniz : \")\n",
        "  isInteger = True\n",
        "  while(isInteger):\n",
        "      try:\n",
        "          yas = int(yas)\n",
        "          isInteger = False\n",
        "      except ValueError:\n",
        "          yas = input(\"Lütfen Sayı Türünde Bir Değer Giriniz \\nYaş giriniz : \")\n",
        "      \n",
        "  #while type(int(yas))==str:\n",
        "  #  yas = int(input(\"Lütfen Sayı Türünde Bir Değer Giriniz \\nYaş giriniz : \"))\n",
        " \n",
        "  okulNo =int(input(\"Okul Numaranızı giriniz : \"))\n",
        "  while 1000 > okulNo or okulNo > 5000:\n",
        "        okulNo =int(input(\"Lütfen 1000-5000 Arasında Bir Numara Girişi Yapınız \\nOkul Numaranızı giriniz : \"))\n",
        "  if (df['StudentNumber']==okulNo).any() :\n",
        "    print(\"Mevcut Bir Numara Girişi Yapılmaya Çalıştın! Lütfen Tekrar Numara Giriniz! \")\n",
        "    okulNo =int(input(\"Okul Numaranızı giriniz : \"))\n",
        "  \n",
        "  dersAdi=\"Linear Algebra\"\n",
        "  \n",
        "  puan = int(input(\"Notunuzu giriniz: \"))\n",
        "  while 0 > puan or puan > 100 :\n",
        "    puan = int(input(\"Lütfen 0-100 Arasında Bir Not Girişi Yapınız \\nNotunuzu giriniz: \")) \n",
        "\n",
        "  df=aktar(df,isim,yas,okulNo,dersAdi,puan)\n",
        "  return df"
      ]
    },
    {
      "cell_type": "code",
      "execution_count": 55,
      "metadata": {
        "id": "zLWsikLRSpZQ"
      },
      "outputs": [],
      "source": [
        "def aktar(df,isim,yas,okulNo,dersAdi,puan):\n",
        "  studentName.append(isim)\n",
        "  studentAge.append(yas)\n",
        "  studentNumber.append(okulNo)\n",
        "  studentLesson.append(dersAdi)\n",
        "  studentGrade.append(puan)\n",
        "  ogr = {\n",
        "      \"StudentName\": [isim],\n",
        "      \"StudentAge\": [yas],\n",
        "      \"StudentNumber\":[okulNo],\n",
        "      \"StudentLesson\":[dersAdi],\n",
        "      \"StudentGrade\":[puan]\n",
        "    }\n",
        "  data = pd.DataFrame(ogr)\n",
        "  df = df.append(data)\n",
        "  return df"
      ]
    },
    {
      "cell_type": "code",
      "execution_count": 58,
      "metadata": {
        "id": "XZE0auoBIzyM"
      },
      "outputs": [],
      "source": [
        "def menu(df):\n",
        "  status=True\n",
        "  while status:\n",
        "    print(\"\"\"\n",
        "    1) Öğrenci Ekle\n",
        "    2) Öğrenci Sorgula\n",
        "    3) Bütün Öğrencileri Göster\n",
        "    4) Öğrencilerin Harf Notunu Göster\n",
        "    5) Öğrencilerin Kaldı/Geçti Durumunu Sorgula\n",
        "    6) En Yüksek Nota Sahip Öğrenciyi Ekrana Yazdır\n",
        "    7) En Düşük Nota Sahip Öğrenciyi Ekrana Yazdır\n",
        "    8) Sınıfın Not Ortalamasını Yazdır\n",
        "    9) Öğrencileri Alfabetik Sırala\n",
        "    10) Uygulamayı Kapat\\n\"\"\")\n",
        "    chosen = int(input(\"Seçim yapınız : \"))\n",
        "\n",
        "    if chosen == 1:\n",
        "     df=ogrenciEkle(df)\n",
        "     print(\"\\nÖğrenci Başarıyla Eklendi.\\n\")\n",
        "    if chosen == 2:\n",
        "      studentNo=int(input(\"Öğrenci Numarasını Giriniz : \"))\n",
        "      print(df[df['StudentNumber'] == studentNo])\n",
        "    if chosen == 3:\n",
        "      print(\"\\nÖğrenci Listeniz Başarıyla Ekrana Getirildi.\\n\")\n",
        "      print(df)\n",
        "    if chosen == 4:\n",
        "      df['Harf'] = np.where((df.StudentGrade < 60 ), \n",
        "            'F', np.where((df.StudentGrade >= 60) & (df.StudentGrade <= 69),  \n",
        "            'D', np.where((df.StudentGrade >= 70) & (df.StudentGrade <= 79), \n",
        "            'C', np.where((df.StudentGrade >= 80) & (df.StudentGrade <= 89), \n",
        "            'B', np.where((df.StudentGrade >= 90) & (df.StudentGrade <= 100), \n",
        "            'A', 'No Marks')))))\n",
        "      print(\"\\nHarf Notları Başarıyla Güncellendi\\n\")\n",
        "      print(df)\n",
        "    if chosen == 5:\n",
        "      df['Kaldimi'] = np.where((df.Harf == 'F' ), \n",
        "                  'Kaldi', np.where((df.Harf != 'F'),  \n",
        "                  'Geçti', 'No Marks'))\n",
        "      print(df)\n",
        "      print(\"\\nKalan/Geçen Listesi Başarıyla Güncellendi.\\n\")\n",
        "    if chosen == 6 :\n",
        "      print(f\"\\nEn Yüksek Nota Sahip Öğrenci\\n : {df[df.StudentGrade.max() == df['StudentGrade']]}\")\n",
        "    if chosen == 7 :\n",
        "      print(f\"\\nEn Düşük Nota Sahip Öğrenci\\n : {df[df.StudentGrade.min() == df['StudentGrade']]}\")\n",
        "    if chosen == 8:\n",
        "      meanTotal= df[\"StudentGrade\"].mean()\n",
        "      print(f\"\\nSınıfın Not Ortalaması : {meanTotal}\")\n",
        "    if chosen == 9:\n",
        "      print(df.sort_values([\"StudentName\"], ascending=True))\n",
        "    if chosen == 10:\n",
        "      print(\"\\nProgram Kapatılıyor.....\\n\")\n",
        "      status=False\n",
        "    else:\n",
        "      print(\"Lütfen 1-10 Arasında Bir Seçim Yapınız.\")"
      ]
    },
    {
      "cell_type": "code",
      "execution_count": null,
      "metadata": {
        "id": "PF1Uu5ezJUtc"
      },
      "outputs": [],
      "source": [
        "menu(df)"
      ]
    }
  ],
  "metadata": {
    "colab": {
      "collapsed_sections": [],
      "name": "hw1-studentDF.ipynb",
      "provenance": [],
      "authorship_tag": "ABX9TyP+bMsqyLnZ/aTFNyb2fRZn",
      "include_colab_link": true
    },
    "kernelspec": {
      "display_name": "Python 3",
      "name": "python3"
    },
    "language_info": {
      "name": "python"
    }
  },
  "nbformat": 4,
  "nbformat_minor": 0
}