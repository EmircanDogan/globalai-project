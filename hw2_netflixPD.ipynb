{
  "nbformat": 4,
  "nbformat_minor": 0,
  "metadata": {
    "colab": {
      "name": "hw2-netflixPD.ipynb",
      "provenance": [],
      "collapsed_sections": [],
      "include_colab_link": true
    },
    "kernelspec": {
      "name": "python3",
      "display_name": "Python 3"
    },
    "language_info": {
      "name": "python"
    }
  },
  "cells": [
    {
      "cell_type": "markdown",
      "metadata": {
        "id": "view-in-github",
        "colab_type": "text"
      },
      "source": [
        "<a href=\"https://colab.research.google.com/github/EmircanDogan/globalai-project/blob/main/hw2_netflixPD.ipynb\" target=\"_parent\"><img src=\"https://colab.research.google.com/assets/colab-badge.svg\" alt=\"Open In Colab\"/></a>"
      ]
    },
    {
      "cell_type": "code",
      "source": [
        "import numpy as np\n",
        "import pandas as pd"
      ],
      "metadata": {
        "id": "Qu8SIQhfvJUQ"
      },
      "execution_count": 2,
      "outputs": []
    },
    {
      "cell_type": "code",
      "source": [
        "import seaborn as sns\n",
        "import matplotlib.pyplot as plt"
      ],
      "metadata": {
        "id": "TDNFIot4z5s4"
      },
      "execution_count": 3,
      "outputs": []
    },
    {
      "cell_type": "code",
      "source": [
        "df=pd.read_csv('/content/NetflixOriginals.csv',encoding = 'ISO-8859-1')"
      ],
      "metadata": {
        "id": "j3PmHKKQvB7N"
      },
      "execution_count": 7,
      "outputs": []
    },
    {
      "cell_type": "code",
      "source": [
        "df.info()"
      ],
      "metadata": {
        "colab": {
          "base_uri": "https://localhost:8080/"
        },
        "id": "AeuSoFVEwxYK",
        "outputId": "c39961ad-e356-44ba-b8cb-352eacbf1003"
      },
      "execution_count": 8,
      "outputs": [
        {
          "output_type": "stream",
          "name": "stdout",
          "text": [
            "<class 'pandas.core.frame.DataFrame'>\n",
            "RangeIndex: 584 entries, 0 to 583\n",
            "Data columns (total 6 columns):\n",
            " #   Column      Non-Null Count  Dtype  \n",
            "---  ------      --------------  -----  \n",
            " 0   Title       584 non-null    object \n",
            " 1   Genre       584 non-null    object \n",
            " 2   Premiere    584 non-null    object \n",
            " 3   Runtime     584 non-null    int64  \n",
            " 4   IMDB Score  584 non-null    float64\n",
            " 5   Language    584 non-null    object \n",
            "dtypes: float64(1), int64(1), object(4)\n",
            "memory usage: 27.5+ KB\n"
          ]
        }
      ]
    },
    {
      "cell_type": "markdown",
      "source": [
        "# Veri setine göre uzun soluklu filmler hangi dilde oluşturulmuştur? Görselleştirme yapınız.\n"
      ],
      "metadata": {
        "id": "AKI-p5aZOqsW"
      }
    },
    {
      "cell_type": "code",
      "source": [
        "#En Uzun süreli filmlerden 100 adet listelenmesi\n",
        "runtime_film = df[[\"Language\", \"Title\", \"Genre\", \"Premiere\",\"Runtime\", \"IMDB Score\"]].sort_values([\"Runtime\"], ascending=False).head(100)"
      ],
      "metadata": {
        "id": "xIGVJXTAxF4D"
      },
      "execution_count": 9,
      "outputs": []
    },
    {
      "cell_type": "code",
      "source": [
        "#Dillere Göre Ortalama Film Süresi\n",
        "lang_film = runtime_film.groupby(\"Language\")[\"Runtime\"].mean()"
      ],
      "metadata": {
        "id": "uotJ4hK40BBL"
      },
      "execution_count": 10,
      "outputs": []
    },
    {
      "cell_type": "code",
      "source": [
        "plt.figure(figsize=(15,7))\n",
        "sns.barplot(x=lang_film.index, y=lang_film.values)\n",
        "plt.title(\"Uzun soluklu 100 filmin Ortalama Süresi ve Dil Dağılımı\",weight='bold',color=\"blue\")\n",
        "plt.ylabel(\"Uzunluklar (Dakika)\",color=\"red\")\n",
        "plt.xlabel(\"Diller\",color=\"red\")\n",
        "plt.xticks(rotation=90)  "
      ],
      "metadata": {
        "colab": {
          "base_uri": "https://localhost:8080/",
          "height": 593
        },
        "id": "YUfclrEVz5Hw",
        "outputId": "be617151-1e1b-4a1b-cdd0-16e3f2fb9362"
      },
      "execution_count": 11,
      "outputs": [
        {
          "output_type": "execute_result",
          "data": {
            "text/plain": [
              "(array([ 0,  1,  2,  3,  4,  5,  6,  7,  8,  9, 10, 11, 12, 13, 14, 15]),\n",
              " <a list of 16 Text major ticklabel objects>)"
            ]
          },
          "metadata": {},
          "execution_count": 11
        },
        {
          "output_type": "display_data",
          "data": {
            "text/plain": [
              "<Figure size 1080x504 with 1 Axes>"
            ],
            "image/png": "[encoded data removed]"
          },
          "metadata": {
            "needs_background": "light"
          }
        }
      ]
    },
    {
      "cell_type": "markdown",
      "source": [
        "# 2019 Ocak ile 2020 Haziran tarihleri arasında 'Documentary' türünde çekilmiş filmlerin IMDB değerlerini bulup görselleştiriniz."
      ],
      "metadata": {
        "id": "JLSV_zgnO8DQ"
      }
    },
    {
      "cell_type": "code",
      "source": [
        "df[\"Date\"] = pd.to_datetime(df.Premiere)\n",
        "df[\"Year\"] = df[\"Date\"].dt.year\n",
        "df[\"Month\"] = df[\"Date\"].dt.month\n",
        "df[\"day_of_week\"] = df[\"Date\"].dt.dayofweek\n",
        "df[\"Year_Month\"] = df[\"Date\"].dt.strftime(\"%Y-%m\")"
      ],
      "metadata": {
        "id": "ESMxGMAy0NiT"
      },
      "execution_count": 12,
      "outputs": []
    },
    {
      "cell_type": "code",
      "source": [
        "#Verilen Tarihler Arasından Belgesel Türündeki Verinin çekilmesi\n",
        "doc_film = df[(df['Date'] > '2019-01-01') & (df['Date'] <= '2020-06-30') & (df[\"Genre\"]==\"Documentary\")]"
      ],
      "metadata": {
        "id": "C5eAq5chNotM"
      },
      "execution_count": 13,
      "outputs": []
    },
    {
      "cell_type": "code",
      "source": [
        "fig =plt.figure(figsize = (40,7))\n",
        "first_plot = fig.add_subplot(1,3,1)\n",
        "first_plot.scatter(doc_film[\"IMDB Score\"],doc_film[\"Date\"],label= \"stars\", color= \"green\", \n",
        "            marker= \"*\", s=30)\n",
        "plt.xlabel('IMDB Puanı',color=\"blue\")\n",
        "plt.ylabel('Film Çıkış Tarihleri',color=\"blue\")\n",
        "first_plot.set_title(\"2019 Ocak 2020 Haziran Arası Documentary Türünde çekilen filmlerin IMDB Puanları\",color=\"red\",weight='bold')"
      ],
      "metadata": {
        "colab": {
          "base_uri": "https://localhost:8080/",
          "height": 475
        },
        "id": "QI9wgcrEb7YV",
        "outputId": "8d3a7497-d466-4b21-898f-4a97c179e453"
      },
      "execution_count": 14,
      "outputs": [
        {
          "output_type": "execute_result",
          "data": {
            "text/plain": [
              "Text(0.5, 1.0, '2019 Ocak 2020 Haziran Arası Documentary Türünde çekilen filmlerin IMDB Puanları')"
            ]
          },
          "metadata": {},
          "execution_count": 14
        },
        {
          "output_type": "display_data",
          "data": {
            "text/plain": [
              "<Figure size 2880x504 with 1 Axes>"
            ],
            "image/png": "[encoded data removed]"
          },
          "metadata": {
            "needs_background": "light"
          }
        }
      ]
    },
    {
      "cell_type": "markdown",
      "source": [
        "# İngilizce çekilen filmler içerisinde hangi tür en yüksek IMDB puanına sahiptir?"
      ],
      "metadata": {
        "id": "JX3OS2zJ6aq9"
      }
    },
    {
      "cell_type": "code",
      "source": [
        "#İngilizce Olan filmleri listeledik\n",
        "language_eng=df[(df[\"Language\"] == \"English\")]"
      ],
      "metadata": {
        "id": "9XHF_VtSt30b"
      },
      "execution_count": 15,
      "outputs": []
    },
    {
      "cell_type": "code",
      "source": [
        "#IMDB puanına göre sıralayıp en yüksek ımdb puanına sahip filmi seçtik\n",
        "language_eng[[\"IMDB Score\", \"Title\", \"Genre\", \"Language\"]].sort_values([\"IMDB Score\"], ascending=False).head(1)"
      ],
      "metadata": {
        "colab": {
          "base_uri": "https://localhost:8080/",
          "height": 81
        },
        "id": "9SHW-PUWIBXY",
        "outputId": "1c1c841a-50fe-4627-ecc0-11daa06849b6"
      },
      "execution_count": 16,
      "outputs": [
        {
          "output_type": "execute_result",
          "data": {
            "text/plain": [
              "     IMDB Score                                     Title        Genre  \\\n",
              "583         9.0  David Attenborough: A Life on Our Planet  Documentary   \n",
              "\n",
              "    Language  \n",
              "583  English  "
            ],
            "text/html": [
              "\n",
              "  <div id=\"df-a4739c1a-cd44-4170-8ba4-8bcca6c4d15d\">\n",
              "    <div class=\"colab-df-container\">\n",
              "      <div>\n",
              "<style scoped>\n",
              "    .dataframe tbody tr th:only-of-type {\n",
              "        vertical-align: middle;\n",
              "    }\n",
              "\n",
              "    .dataframe tbody tr th {\n",
              "        vertical-align: top;\n",
              "    }\n",
              "\n",
              "    .dataframe thead th {\n",
              "        text-align: right;\n",
              "    }\n",
              "</style>\n",
              "<table border=\"1\" class=\"dataframe\">\n",
              "  <thead>\n",
              "    <tr style=\"text-align: right;\">\n",
              "      <th></th>\n",
              "      <th>IMDB Score</th>\n",
              "      <th>Title</th>\n",
              "      <th>Genre</th>\n",
              "      <th>Language</th>\n",
              "    </tr>\n",
              "  </thead>\n",
              "  <tbody>\n",
              "    <tr>\n",
              "      <th>583</th>\n",
              "      <td>9.0</td>\n",
              "      <td>David Attenborough: A Life on Our Planet</td>\n",
              "      <td>Documentary</td>\n",
              "      <td>English</td>\n",
              "    </tr>\n",
              "  </tbody>\n",
              "</table>\n",
              "</div>\n",
              "      <button class=\"colab-df-convert\" onclick=\"convertToInteractive('df-a4739c1a-cd44-4170-8ba4-8bcca6c4d15d')\"\n",
              "              title=\"Convert this dataframe to an interactive table.\"\n",
              "              style=\"display:none;\">\n",
              "        \n",
              "  <svg xmlns=\"http://www.w3.org/2000/svg\" height=\"24px\"viewBox=\"0 0 24 24\"\n",
              "       width=\"24px\">\n",
              "    <path d=\"M0 0h24v24H0V0z\" fill=\"none\"/>\n",
              "    <path d=\"M18.56 5.44l.94 2.06.94-2.06 2.06-.94-2.06-.94-.94-2.06-.94 2.06-2.06.94zm-11 1L8.5 8.5l.94-2.06 2.06-.94-2.06-.94L8.5 2.5l-.94 2.06-2.06.94zm10 10l.94 2.06.94-2.06 2.06-.94-2.06-.94-.94-2.06-.94 2.06-2.06.94z\"/><path d=\"M17.41 7.96l-1.37-1.37c-.4-.4-.92-.59-1.43-.59-.52 0-1.04.2-1.43.59L10.3 9.45l-7.72 7.72c-.78.78-.78 2.05 0 2.83L4 21.41c.39.39.9.59 1.41.59.51 0 1.02-.2 1.41-.59l7.78-7.78 2.81-2.81c.8-.78.8-2.07 0-2.86zM5.41 20L4 18.59l7.72-7.72 1.47 1.35L5.41 20z\"/>\n",
              "  </svg>\n",
              "      </button>\n",
              "      \n",
              "  <style>\n",
              "    .colab-df-container {\n",
              "      display:flex;\n",
              "      flex-wrap:wrap;\n",
              "      gap: 12px;\n",
              "    }\n",
              "\n",
              "    .colab-df-convert {\n",
              "      background-color: #E8F0FE;\n",
              "      border: none;\n",
              "      border-radius: 50%;\n",
              "      cursor: pointer;\n",
              "      display: none;\n",
              "      fill: #1967D2;\n",
              "      height: 32px;\n",
              "      padding: 0 0 0 0;\n",
              "      width: 32px;\n",
              "    }\n",
              "\n",
              "    .colab-df-convert:hover {\n",
              "      background-color: #E2EBFA;\n",
              "      box-shadow: 0px 1px 2px rgba(60, 64, 67, 0.3), 0px 1px 3px 1px rgba(60, 64, 67, 0.15);\n",
              "      fill: #174EA6;\n",
              "    }\n",
              "\n",
              "    [theme=dark] .colab-df-convert {\n",
              "      background-color: #3B4455;\n",
              "      fill: #D2E3FC;\n",
              "    }\n",
              "\n",
              "    [theme=dark] .colab-df-convert:hover {\n",
              "      background-color: #434B5C;\n",
              "      box-shadow: 0px 1px 3px 1px rgba(0, 0, 0, 0.15);\n",
              "      filter: drop-shadow(0px 1px 2px rgba(0, 0, 0, 0.3));\n",
              "      fill: #FFFFFF;\n",
              "    }\n",
              "  </style>\n",
              "\n",
              "      <script>\n",
              "        const buttonEl =\n",
              "          document.querySelector('#df-a4739c1a-cd44-4170-8ba4-8bcca6c4d15d button.colab-df-convert');\n",
              "        buttonEl.style.display =\n",
              "          google.colab.kernel.accessAllowed ? 'block' : 'none';\n",
              "\n",
              "        async function convertToInteractive(key) {\n",
              "          const element = document.querySelector('#df-a4739c1a-cd44-4170-8ba4-8bcca6c4d15d');\n",
              "          const dataTable =\n",
              "            await google.colab.kernel.invokeFunction('convertToInteractive',\n",
              "                                                     [key], {});\n",
              "          if (!dataTable) return;\n",
              "\n",
              "          const docLinkHtml = 'Like what you see? Visit the ' +\n",
              "            '<a target=\"_blank\" href=https://colab.research.google.com/notebooks/data_table.ipynb>data table notebook</a>'\n",
              "            + ' to learn more about interactive tables.';\n",
              "          element.innerHTML = '';\n",
              "          dataTable['output_type'] = 'display_data';\n",
              "          await google.colab.output.renderOutput(dataTable, element);\n",
              "          const docLink = document.createElement('div');\n",
              "          docLink.innerHTML = docLinkHtml;\n",
              "          element.appendChild(docLink);\n",
              "        }\n",
              "      </script>\n",
              "    </div>\n",
              "  </div>\n",
              "  "
            ]
          },
          "metadata": {},
          "execution_count": 16
        }
      ]
    },
    {
      "cell_type": "markdown",
      "source": [
        "#  'Runtime' değeri en yüksek olan ilk 10 film hangileridir? Görselleştiriniz.\n"
      ],
      "metadata": {
        "id": "CcEvPGHW0H-U"
      }
    },
    {
      "cell_type": "markdown",
      "source": [
        "Question 10\n",
        "Which are the top 10 movies with the highest 'Runtime' value? Visualize it."
      ],
      "metadata": {
        "id": "sIEQtcNiiAPF"
      }
    },
    {
      "cell_type": "code",
      "source": [
        "#  Top 10 movies with the highest 'Runtime' value\n",
        "highestRuntime = df.nlargest(n=10, columns=['Runtime'])\n",
        "y = highestRuntime[\"Title\"]\n",
        "x = highestRuntime[\"Runtime\"]\n",
        "plt.barh(y,x, color = \"green\")\n",
        "plt.title(\"Top 10 movies with the highest 'Runtime' value\")\n",
        "plt.show()"
      ],
      "metadata": {
        "id": "v5Nm2lCy4W3y",
        "outputId": "7b575eba-cf61-4707-a0a6-6a73583e1b7a",
        "colab": {
          "base_uri": "https://localhost:8080/",
          "height": 281
        }
      },
      "execution_count": 17,
      "outputs": [
        {
          "output_type": "display_data",
          "data": {
            "text/plain": [
              "<Figure size 432x288 with 1 Axes>"
            ],
            "image/png": "[encoded data removed]"
          },
          "metadata": {
            "needs_background": "light"
          }
        }
      ]
    },
    {
      "cell_type": "markdown",
      "source": [
        "# Hangi yılda en fazla film yayımlanmıştır? Görselleştiriniz.\n"
      ],
      "metadata": {
        "id": "JFNsmapg0XDa"
      }
    },
    {
      "cell_type": "markdown",
      "source": [
        "Question 11\n",
        "In which year was the most movies released? Visualize it."
      ],
      "metadata": {
        "id": "-AcaXwGEuFBu"
      }
    },
    {
      "cell_type": "markdown",
      "source": [
        "Slicing the releasing year data to an extra column"
      ],
      "metadata": {
        "id": "CksC2_lZh0NQ"
      }
    },
    {
      "cell_type": "code",
      "source": [
        "df['Release Year'] = df['Premiere'].str.slice(-4)"
      ],
      "metadata": {
        "id": "qLpBSZU741RD"
      },
      "execution_count": 18,
      "outputs": []
    },
    {
      "cell_type": "code",
      "source": [
        "mostMovieRelease = df[\"Release Year\"].value_counts().nlargest(n=10)"
      ],
      "metadata": {
        "id": "yxjajTRu43UP"
      },
      "execution_count": 19,
      "outputs": []
    },
    {
      "cell_type": "code",
      "source": [
        "mostMovieRelease2 = pd.DataFrame(mostMovieRelease)\n",
        "mostMovieRelease2 [\"Release Year\"]"
      ],
      "metadata": {
        "id": "AgtfBLCQ449R",
        "outputId": "5dffcdf3-fe12-4188-eb0b-651b3e18324e",
        "colab": {
          "base_uri": "https://localhost:8080/"
        }
      },
      "execution_count": 20,
      "outputs": [
        {
          "output_type": "execute_result",
          "data": {
            "text/plain": [
              "2020    183\n",
              "2019    125\n",
              "2018     99\n",
              "2021     71\n",
              "2017     66\n",
              "2016     30\n",
              "2015      9\n",
              "2014      1\n",
              "Name: Release Year, dtype: int64"
            ]
          },
          "metadata": {},
          "execution_count": 20
        }
      ]
    },
    {
      "cell_type": "code",
      "source": [
        "mostMovieRelease.plot(color = \"red\", title = \"Most movies released years\", xlabel = \"Years\", ylabel = \"Number of released films&series\")"
      ],
      "metadata": {
        "id": "k4Wa-umi46wS",
        "outputId": "03c05853-ca32-4c5e-cfd5-b2777c25fb19",
        "colab": {
          "base_uri": "https://localhost:8080/",
          "height": 312
        }
      },
      "execution_count": 21,
      "outputs": [
        {
          "output_type": "execute_result",
          "data": {
            "text/plain": [
              "<matplotlib.axes._subplots.AxesSubplot at 0x7fd1dc839150>"
            ]
          },
          "metadata": {},
          "execution_count": 21
        },
        {
          "output_type": "display_data",
          "data": {
            "text/plain": [
              "<Figure size 432x288 with 1 Axes>"
            ],
            "image/png": "[encoded data removed]"
          },
          "metadata": {
            "needs_background": "light"
          }
        }
      ]
    },
    {
      "cell_type": "markdown",
      "source": [
        "# Hangi dilde yayımlanan filmler en düşük ortalama IMBD puanına sahiptir?\n",
        "Görselleştiriniz.\n",
        "\n"
      ],
      "metadata": {
        "id": "zatD2MW00aod"
      }
    },
    {
      "cell_type": "markdown",
      "source": [
        "Question 12\n",
        "which films released in which language have the lowest average IMBD score?\n",
        "Visualize it."
      ],
      "metadata": {
        "id": "dRWRZiGEiUeX"
      }
    },
    {
      "cell_type": "code",
      "source": [
        "lowest_ımdb = df.nsmallest(n=10, columns=['IMDB Score'])\n",
        "low_ımdb_langs = lowest_ımdb[\"Language\"]\n",
        "lowest_ımdb[\"IMDB Score\"]\n",
        "lowest_ımdb"
      ],
      "metadata": {
        "colab": {
          "base_uri": "https://localhost:8080/",
          "height": 652
        },
        "id": "paSC1K_t0ezj",
        "outputId": "6de2aaed-2870-4251-9741-9c49cb7260d8"
      },
      "execution_count": 23,
      "outputs": [
        {
          "output_type": "execute_result",
          "data": {
            "text/plain": [
              "                             Title                    Genre  \\\n",
              "0                  Enter the Anime              Documentary   \n",
              "1                      Dark Forces                 Thriller   \n",
              "2                          The App    Science fiction/Drama   \n",
              "3                   The Open House          Horror thriller   \n",
              "4                      Kaali Khuhi                  Mystery   \n",
              "5                            Drive                   Action   \n",
              "6                Leyla Everlasting                   Comedy   \n",
              "7  The Last Days of American Crime      Heist film/Thriller   \n",
              "8                          Paradox  Musical/Western/Fantasy   \n",
              "9               Sardar Ka Grandson                   Comedy   \n",
              "\n",
              "            Premiere  Runtime  IMDB Score          Language       Date  Year  \\\n",
              "0     August 5, 2019       58         2.5  English/Japanese 2019-08-05  2019   \n",
              "1    August 21, 2020       81         2.6           Spanish 2020-08-21  2020   \n",
              "2  December 26, 2019       79         2.6           Italian 2019-12-26  2019   \n",
              "3   January 19, 2018       94         3.2           English 2018-01-19  2018   \n",
              "4   October 30, 2020       90         3.4             Hindi 2020-10-30  2020   \n",
              "5   November 1, 2019      147         3.5             Hindi 2019-11-01  2019   \n",
              "6   December 4, 2020      112         3.7           Turkish 2020-12-04  2020   \n",
              "7       June 5, 2020      149         3.7           English 2020-06-05  2020   \n",
              "8     March 23, 2018       73         3.9           English 2018-03-23  2018   \n",
              "9       May 18, 2021      139         4.1             Hindi 2021-05-18  2021   \n",
              "\n",
              "   Month  day_of_week Year_Month Release Year  \n",
              "0      8            0    2019-08         2019  \n",
              "1      8            4    2020-08         2020  \n",
              "2     12            3    2019-12         2019  \n",
              "3      1            4    2018-01         2018  \n",
              "4     10            4    2020-10         2020  \n",
              "5     11            4    2019-11         2019  \n",
              "6     12            4    2020-12         2020  \n",
              "7      6            4    2020-06         2020  \n",
              "8      3            4    2018-03         2018  \n",
              "9      5            1    2021-05         2021  "
            ],
            "text/html": [
              "\n",
              "  <div id=\"df-7e015bdd-72b0-4a8d-afe5-bde11d53dbcc\">\n",
              "    <div class=\"colab-df-container\">\n",
              "      <div>\n",
              "<style scoped>\n",
              "    .dataframe tbody tr th:only-of-type {\n",
              "        vertical-align: middle;\n",
              "    }\n",
              "\n",
              "    .dataframe tbody tr th {\n",
              "        vertical-align: top;\n",
              "    }\n",
              "\n",
              "    .dataframe thead th {\n",
              "        text-align: right;\n",
              "    }\n",
              "</style>\n",
              "<table border=\"1\" class=\"dataframe\">\n",
              "  <thead>\n",
              "    <tr style=\"text-align: right;\">\n",
              "      <th></th>\n",
              "      <th>Title</th>\n",
              "      <th>Genre</th>\n",
              "      <th>Premiere</th>\n",
              "      <th>Runtime</th>\n",
              "      <th>IMDB Score</th>\n",
              "      <th>Language</th>\n",
              "      <th>Date</th>\n",
              "      <th>Year</th>\n",
              "      <th>Month</th>\n",
              "      <th>day_of_week</th>\n",
              "      <th>Year_Month</th>\n",
              "      <th>Release Year</th>\n",
              "    </tr>\n",
              "  </thead>\n",
              "  <tbody>\n",
              "    <tr>\n",
              "      <th>0</th>\n",
              "      <td>Enter the Anime</td>\n",
              "      <td>Documentary</td>\n",
              "      <td>August 5, 2019</td>\n",
              "      <td>58</td>\n",
              "      <td>2.5</td>\n",
              "      <td>English/Japanese</td>\n",
              "      <td>2019-08-05</td>\n",
              "      <td>2019</td>\n",
              "      <td>8</td>\n",
              "      <td>0</td>\n",
              "      <td>2019-08</td>\n",
              "      <td>2019</td>\n",
              "    </tr>\n",
              "    <tr>\n",
              "      <th>1</th>\n",
              "      <td>Dark Forces</td>\n",
              "      <td>Thriller</td>\n",
              "      <td>August 21, 2020</td>\n",
              "      <td>81</td>\n",
              "      <td>2.6</td>\n",
              "      <td>Spanish</td>\n",
              "      <td>2020-08-21</td>\n",
              "      <td>2020</td>\n",
              "      <td>8</td>\n",
              "      <td>4</td>\n",
              "      <td>2020-08</td>\n",
              "      <td>2020</td>\n",
              "    </tr>\n",
              "    <tr>\n",
              "      <th>2</th>\n",
              "      <td>The App</td>\n",
              "      <td>Science fiction/Drama</td>\n",
              "      <td>December 26, 2019</td>\n",
              "      <td>79</td>\n",
              "      <td>2.6</td>\n",
              "      <td>Italian</td>\n",
              "      <td>2019-12-26</td>\n",
              "      <td>2019</td>\n",
              "      <td>12</td>\n",
              "      <td>3</td>\n",
              "      <td>2019-12</td>\n",
              "      <td>2019</td>\n",
              "    </tr>\n",
              "    <tr>\n",
              "      <th>3</th>\n",
              "      <td>The Open House</td>\n",
              "      <td>Horror thriller</td>\n",
              "      <td>January 19, 2018</td>\n",
              "      <td>94</td>\n",
              "      <td>3.2</td>\n",
              "      <td>English</td>\n",
              "      <td>2018-01-19</td>\n",
              "      <td>2018</td>\n",
              "      <td>1</td>\n",
              "      <td>4</td>\n",
              "      <td>2018-01</td>\n",
              "      <td>2018</td>\n",
              "    </tr>\n",
              "    <tr>\n",
              "      <th>4</th>\n",
              "      <td>Kaali Khuhi</td>\n",
              "      <td>Mystery</td>\n",
              "      <td>October 30, 2020</td>\n",
              "      <td>90</td>\n",
              "      <td>3.4</td>\n",
              "      <td>Hindi</td>\n",
              "      <td>2020-10-30</td>\n",
              "      <td>2020</td>\n",
              "      <td>10</td>\n",
              "      <td>4</td>\n",
              "      <td>2020-10</td>\n",
              "      <td>2020</td>\n",
              "    </tr>\n",
              "    <tr>\n",
              "      <th>5</th>\n",
              "      <td>Drive</td>\n",
              "      <td>Action</td>\n",
              "      <td>November 1, 2019</td>\n",
              "      <td>147</td>\n",
              "      <td>3.5</td>\n",
              "      <td>Hindi</td>\n",
              "      <td>2019-11-01</td>\n",
              "      <td>2019</td>\n",
              "      <td>11</td>\n",
              "      <td>4</td>\n",
              "      <td>2019-11</td>\n",
              "      <td>2019</td>\n",
              "    </tr>\n",
              "    <tr>\n",
              "      <th>6</th>\n",
              "      <td>Leyla Everlasting</td>\n",
              "      <td>Comedy</td>\n",
              "      <td>December 4, 2020</td>\n",
              "      <td>112</td>\n",
              "      <td>3.7</td>\n",
              "      <td>Turkish</td>\n",
              "      <td>2020-12-04</td>\n",
              "      <td>2020</td>\n",
              "      <td>12</td>\n",
              "      <td>4</td>\n",
              "      <td>2020-12</td>\n",
              "      <td>2020</td>\n",
              "    </tr>\n",
              "    <tr>\n",
              "      <th>7</th>\n",
              "      <td>The Last Days of American Crime</td>\n",
              "      <td>Heist film/Thriller</td>\n",
              "      <td>June 5, 2020</td>\n",
              "      <td>149</td>\n",
              "      <td>3.7</td>\n",
              "      <td>English</td>\n",
              "      <td>2020-06-05</td>\n",
              "      <td>2020</td>\n",
              "      <td>6</td>\n",
              "      <td>4</td>\n",
              "      <td>2020-06</td>\n",
              "      <td>2020</td>\n",
              "    </tr>\n",
              "    <tr>\n",
              "      <th>8</th>\n",
              "      <td>Paradox</td>\n",
              "      <td>Musical/Western/Fantasy</td>\n",
              "      <td>March 23, 2018</td>\n",
              "      <td>73</td>\n",
              "      <td>3.9</td>\n",
              "      <td>English</td>\n",
              "      <td>2018-03-23</td>\n",
              "      <td>2018</td>\n",
              "      <td>3</td>\n",
              "      <td>4</td>\n",
              "      <td>2018-03</td>\n",
              "      <td>2018</td>\n",
              "    </tr>\n",
              "    <tr>\n",
              "      <th>9</th>\n",
              "      <td>Sardar Ka Grandson</td>\n",
              "      <td>Comedy</td>\n",
              "      <td>May 18, 2021</td>\n",
              "      <td>139</td>\n",
              "      <td>4.1</td>\n",
              "      <td>Hindi</td>\n",
              "      <td>2021-05-18</td>\n",
              "      <td>2021</td>\n",
              "      <td>5</td>\n",
              "      <td>1</td>\n",
              "      <td>2021-05</td>\n",
              "      <td>2021</td>\n",
              "    </tr>\n",
              "  </tbody>\n",
              "</table>\n",
              "</div>\n",
              "      <button class=\"colab-df-convert\" onclick=\"convertToInteractive('df-7e015bdd-72b0-4a8d-afe5-bde11d53dbcc')\"\n",
              "              title=\"Convert this dataframe to an interactive table.\"\n",
              "              style=\"display:none;\">\n",
              "        \n",
              "  <svg xmlns=\"http://www.w3.org/2000/svg\" height=\"24px\"viewBox=\"0 0 24 24\"\n",
              "       width=\"24px\">\n",
              "    <path d=\"M0 0h24v24H0V0z\" fill=\"none\"/>\n",
              "    <path d=\"M18.56 5.44l.94 2.06.94-2.06 2.06-.94-2.06-.94-.94-2.06-.94 2.06-2.06.94zm-11 1L8.5 8.5l.94-2.06 2.06-.94-2.06-.94L8.5 2.5l-.94 2.06-2.06.94zm10 10l.94 2.06.94-2.06 2.06-.94-2.06-.94-.94-2.06-.94 2.06-2.06.94z\"/><path d=\"M17.41 7.96l-1.37-1.37c-.4-.4-.92-.59-1.43-.59-.52 0-1.04.2-1.43.59L10.3 9.45l-7.72 7.72c-.78.78-.78 2.05 0 2.83L4 21.41c.39.39.9.59 1.41.59.51 0 1.02-.2 1.41-.59l7.78-7.78 2.81-2.81c.8-.78.8-2.07 0-2.86zM5.41 20L4 18.59l7.72-7.72 1.47 1.35L5.41 20z\"/>\n",
              "  </svg>\n",
              "      </button>\n",
              "      \n",
              "  <style>\n",
              "    .colab-df-container {\n",
              "      display:flex;\n",
              "      flex-wrap:wrap;\n",
              "      gap: 12px;\n",
              "    }\n",
              "\n",
              "    .colab-df-convert {\n",
              "      background-color: #E8F0FE;\n",
              "      border: none;\n",
              "      border-radius: 50%;\n",
              "      cursor: pointer;\n",
              "      display: none;\n",
              "      fill: #1967D2;\n",
              "      height: 32px;\n",
              "      padding: 0 0 0 0;\n",
              "      width: 32px;\n",
              "    }\n",
              "\n",
              "    .colab-df-convert:hover {\n",
              "      background-color: #E2EBFA;\n",
              "      box-shadow: 0px 1px 2px rgba(60, 64, 67, 0.3), 0px 1px 3px 1px rgba(60, 64, 67, 0.15);\n",
              "      fill: #174EA6;\n",
              "    }\n",
              "\n",
              "    [theme=dark] .colab-df-convert {\n",
              "      background-color: #3B4455;\n",
              "      fill: #D2E3FC;\n",
              "    }\n",
              "\n",
              "    [theme=dark] .colab-df-convert:hover {\n",
              "      background-color: #434B5C;\n",
              "      box-shadow: 0px 1px 3px 1px rgba(0, 0, 0, 0.15);\n",
              "      filter: drop-shadow(0px 1px 2px rgba(0, 0, 0, 0.3));\n",
              "      fill: #FFFFFF;\n",
              "    }\n",
              "  </style>\n",
              "\n",
              "      <script>\n",
              "        const buttonEl =\n",
              "          document.querySelector('#df-7e015bdd-72b0-4a8d-afe5-bde11d53dbcc button.colab-df-convert');\n",
              "        buttonEl.style.display =\n",
              "          google.colab.kernel.accessAllowed ? 'block' : 'none';\n",
              "\n",
              "        async function convertToInteractive(key) {\n",
              "          const element = document.querySelector('#df-7e015bdd-72b0-4a8d-afe5-bde11d53dbcc');\n",
              "          const dataTable =\n",
              "            await google.colab.kernel.invokeFunction('convertToInteractive',\n",
              "                                                     [key], {});\n",
              "          if (!dataTable) return;\n",
              "\n",
              "          const docLinkHtml = 'Like what you see? Visit the ' +\n",
              "            '<a target=\"_blank\" href=https://colab.research.google.com/notebooks/data_table.ipynb>data table notebook</a>'\n",
              "            + ' to learn more about interactive tables.';\n",
              "          element.innerHTML = '';\n",
              "          dataTable['output_type'] = 'display_data';\n",
              "          await google.colab.output.renderOutput(dataTable, element);\n",
              "          const docLink = document.createElement('div');\n",
              "          docLink.innerHTML = docLinkHtml;\n",
              "          element.appendChild(docLink);\n",
              "        }\n",
              "      </script>\n",
              "    </div>\n",
              "  </div>\n",
              "  "
            ]
          },
          "metadata": {},
          "execution_count": 23
        }
      ]
    },
    {
      "cell_type": "markdown",
      "source": [
        "Find the film languages which have lowest IMDB scores "
      ],
      "metadata": {
        "id": "byRJWtZ4iriD"
      }
    },
    {
      "cell_type": "code",
      "source": [
        "df3= lowest_ımdb.pivot_table(columns=['Language'], aggfunc='size') \n",
        "df3"
      ],
      "metadata": {
        "id": "v9E63ZPu5Mv-",
        "outputId": "c0304610-5d34-4420-c0ee-711b02a2a7a7",
        "colab": {
          "base_uri": "https://localhost:8080/"
        }
      },
      "execution_count": 24,
      "outputs": [
        {
          "output_type": "execute_result",
          "data": {
            "text/plain": [
              "Language\n",
              "English             3\n",
              "English/Japanese    1\n",
              "Hindi               3\n",
              "Italian             1\n",
              "Spanish             1\n",
              "Turkish             1\n",
              "dtype: int64"
            ]
          },
          "metadata": {},
          "execution_count": 24
        }
      ]
    },
    {
      "cell_type": "code",
      "source": [
        "df3.to_frame()"
      ],
      "metadata": {
        "id": "vdUmXtj05SFL",
        "outputId": "0808ae58-38d5-4f23-e20f-70b561a2f923",
        "colab": {
          "base_uri": "https://localhost:8080/",
          "height": 269
        }
      },
      "execution_count": 25,
      "outputs": [
        {
          "output_type": "execute_result",
          "data": {
            "text/plain": [
              "                  0\n",
              "Language           \n",
              "English           3\n",
              "English/Japanese  1\n",
              "Hindi             3\n",
              "Italian           1\n",
              "Spanish           1\n",
              "Turkish           1"
            ],
            "text/html": [
              "\n",
              "  <div id=\"df-a8fa4915-7e35-4bc4-8c20-a09f1e9e63c6\">\n",
              "    <div class=\"colab-df-container\">\n",
              "      <div>\n",
              "<style scoped>\n",
              "    .dataframe tbody tr th:only-of-type {\n",
              "        vertical-align: middle;\n",
              "    }\n",
              "\n",
              "    .dataframe tbody tr th {\n",
              "        vertical-align: top;\n",
              "    }\n",
              "\n",
              "    .dataframe thead th {\n",
              "        text-align: right;\n",
              "    }\n",
              "</style>\n",
              "<table border=\"1\" class=\"dataframe\">\n",
              "  <thead>\n",
              "    <tr style=\"text-align: right;\">\n",
              "      <th></th>\n",
              "      <th>0</th>\n",
              "    </tr>\n",
              "    <tr>\n",
              "      <th>Language</th>\n",
              "      <th></th>\n",
              "    </tr>\n",
              "  </thead>\n",
              "  <tbody>\n",
              "    <tr>\n",
              "      <th>English</th>\n",
              "      <td>3</td>\n",
              "    </tr>\n",
              "    <tr>\n",
              "      <th>English/Japanese</th>\n",
              "      <td>1</td>\n",
              "    </tr>\n",
              "    <tr>\n",
              "      <th>Hindi</th>\n",
              "      <td>3</td>\n",
              "    </tr>\n",
              "    <tr>\n",
              "      <th>Italian</th>\n",
              "      <td>1</td>\n",
              "    </tr>\n",
              "    <tr>\n",
              "      <th>Spanish</th>\n",
              "      <td>1</td>\n",
              "    </tr>\n",
              "    <tr>\n",
              "      <th>Turkish</th>\n",
              "      <td>1</td>\n",
              "    </tr>\n",
              "  </tbody>\n",
              "</table>\n",
              "</div>\n",
              "      <button class=\"colab-df-convert\" onclick=\"convertToInteractive('df-a8fa4915-7e35-4bc4-8c20-a09f1e9e63c6')\"\n",
              "              title=\"Convert this dataframe to an interactive table.\"\n",
              "              style=\"display:none;\">\n",
              "        \n",
              "  <svg xmlns=\"http://www.w3.org/2000/svg\" height=\"24px\"viewBox=\"0 0 24 24\"\n",
              "       width=\"24px\">\n",
              "    <path d=\"M0 0h24v24H0V0z\" fill=\"none\"/>\n",
              "    <path d=\"M18.56 5.44l.94 2.06.94-2.06 2.06-.94-2.06-.94-.94-2.06-.94 2.06-2.06.94zm-11 1L8.5 8.5l.94-2.06 2.06-.94-2.06-.94L8.5 2.5l-.94 2.06-2.06.94zm10 10l.94 2.06.94-2.06 2.06-.94-2.06-.94-.94-2.06-.94 2.06-2.06.94z\"/><path d=\"M17.41 7.96l-1.37-1.37c-.4-.4-.92-.59-1.43-.59-.52 0-1.04.2-1.43.59L10.3 9.45l-7.72 7.72c-.78.78-.78 2.05 0 2.83L4 21.41c.39.39.9.59 1.41.59.51 0 1.02-.2 1.41-.59l7.78-7.78 2.81-2.81c.8-.78.8-2.07 0-2.86zM5.41 20L4 18.59l7.72-7.72 1.47 1.35L5.41 20z\"/>\n",
              "  </svg>\n",
              "      </button>\n",
              "      \n",
              "  <style>\n",
              "    .colab-df-container {\n",
              "      display:flex;\n",
              "      flex-wrap:wrap;\n",
              "      gap: 12px;\n",
              "    }\n",
              "\n",
              "    .colab-df-convert {\n",
              "      background-color: #E8F0FE;\n",
              "      border: none;\n",
              "      border-radius: 50%;\n",
              "      cursor: pointer;\n",
              "      display: none;\n",
              "      fill: #1967D2;\n",
              "      height: 32px;\n",
              "      padding: 0 0 0 0;\n",
              "      width: 32px;\n",
              "    }\n",
              "\n",
              "    .colab-df-convert:hover {\n",
              "      background-color: #E2EBFA;\n",
              "      box-shadow: 0px 1px 2px rgba(60, 64, 67, 0.3), 0px 1px 3px 1px rgba(60, 64, 67, 0.15);\n",
              "      fill: #174EA6;\n",
              "    }\n",
              "\n",
              "    [theme=dark] .colab-df-convert {\n",
              "      background-color: #3B4455;\n",
              "      fill: #D2E3FC;\n",
              "    }\n",
              "\n",
              "    [theme=dark] .colab-df-convert:hover {\n",
              "      background-color: #434B5C;\n",
              "      box-shadow: 0px 1px 3px 1px rgba(0, 0, 0, 0.15);\n",
              "      filter: drop-shadow(0px 1px 2px rgba(0, 0, 0, 0.3));\n",
              "      fill: #FFFFFF;\n",
              "    }\n",
              "  </style>\n",
              "\n",
              "      <script>\n",
              "        const buttonEl =\n",
              "          document.querySelector('#df-a8fa4915-7e35-4bc4-8c20-a09f1e9e63c6 button.colab-df-convert');\n",
              "        buttonEl.style.display =\n",
              "          google.colab.kernel.accessAllowed ? 'block' : 'none';\n",
              "\n",
              "        async function convertToInteractive(key) {\n",
              "          const element = document.querySelector('#df-a8fa4915-7e35-4bc4-8c20-a09f1e9e63c6');\n",
              "          const dataTable =\n",
              "            await google.colab.kernel.invokeFunction('convertToInteractive',\n",
              "                                                     [key], {});\n",
              "          if (!dataTable) return;\n",
              "\n",
              "          const docLinkHtml = 'Like what you see? Visit the ' +\n",
              "            '<a target=\"_blank\" href=https://colab.research.google.com/notebooks/data_table.ipynb>data table notebook</a>'\n",
              "            + ' to learn more about interactive tables.';\n",
              "          element.innerHTML = '';\n",
              "          dataTable['output_type'] = 'display_data';\n",
              "          await google.colab.output.renderOutput(dataTable, element);\n",
              "          const docLink = document.createElement('div');\n",
              "          docLink.innerHTML = docLinkHtml;\n",
              "          element.appendChild(docLink);\n",
              "        }\n",
              "      </script>\n",
              "    </div>\n",
              "  </div>\n",
              "  "
            ]
          },
          "metadata": {},
          "execution_count": 25
        }
      ]
    },
    {
      "cell_type": "code",
      "source": [
        " # Which language movies have the lowest IMDB rating?\n",
        "fig, ax = plt.subplots()\n",
        "ax.set_title('Which movies have the lowest IMDB rating with their languages')\n",
        "ax.set_ylabel('Count')\n",
        "lowestIMDBlangs = df3.groupby(\"Language\").mean().plot.bar();"
      ],
      "metadata": {
        "id": "0Gm2oKIL5UlP",
        "outputId": "d45e4be5-3cf7-4b92-fa5c-84211bf2ff7e",
        "colab": {
          "base_uri": "https://localhost:8080/",
          "height": 370
        }
      },
      "execution_count": 26,
      "outputs": [
        {
          "output_type": "display_data",
          "data": {
            "text/plain": [
              "<Figure size 432x288 with 1 Axes>"
            ],
            "image/png": "[encoded data removed]"
          },
          "metadata": {
            "needs_background": "light"
          }
        }
      ]
    },
    {
      "cell_type": "code",
      "source": [
        "# Movies have the lowest IMDB rating with their languages \n",
        "a = df3.groupby(\"Language\").mean().plot.pie(autopct='%1.1f%%',shadow=True, startangle=90);\n",
        "plt.title(\"Which movies have the lowest IMDB rating with their languages\")\n",
        "plt.ylabel(\"\")"
      ],
      "metadata": {
        "id": "pDffpLyE5XD8",
        "outputId": "27c2447f-1503-4862-b40f-de4c17c69455",
        "colab": {
          "base_uri": "https://localhost:8080/",
          "height": 281
        }
      },
      "execution_count": 27,
      "outputs": [
        {
          "output_type": "execute_result",
          "data": {
            "text/plain": [
              "Text(0, 0.5, '')"
            ]
          },
          "metadata": {},
          "execution_count": 27
        },
        {
          "output_type": "display_data",
          "data": {
            "text/plain": [
              "<Figure size 432x288 with 1 Axes>"
            ],
            "image/png": "[encoded data removed]"
          },
          "metadata": {}
        }
      ]
    }
  ]
}